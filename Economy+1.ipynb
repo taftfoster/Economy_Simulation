{
 "cells": [
  {
   "cell_type": "markdown",
   "metadata": {},
   "source": [
    "Define Classes used to describe people and businesses"
   ]
  },
  {
   "cell_type": "code",
   "execution_count": 101,
   "metadata": {
    "collapsed": false
   },
   "outputs": [],
   "source": [
    "class Person:\n",
    "  def __init__(self, cash, owner=0, business=None, employer=None, wage=0, demand=[], spend=[], consume=[]):\n",
    "    self.cash = cash\n",
    "    self.owner = owner\n",
    "    self.business = business\n",
    "    self.employer = employer\n",
    "    self.wage = wage\n",
    "    self.demand = demand\n",
    "    self.spend = spend\n",
    "    self.consume = consume\n",
    "\n",
    "class Business:\n",
    "  def __init__(self, owner, cash, bus_type, wage_offer=0, jobs_offer=0, inventory=0, prod=0, supply=0, price=None, revenue=0):\n",
    "    self.owner = owner\n",
    "    self.cash = cash\n",
    "    self.bus_type = bus_type\n",
    "    self.wage_offer = wage_offer\n",
    "    self.jobs_offer = jobs_offer\n",
    "    self.inventory = inventory\n",
    "    self.prod = prod\n",
    "    self.supply = supply\n",
    "    self.price = price\n",
    "    self.revenue = revenue\n",
    "\n",
    "# class Asset:\n",
    "#  def __init__(self, owner, desc, life):\n",
    "#    self.owner = owner\n",
    "#    self.desc = desc\n",
    "#    self.life = life"
   ]
  },
  {
   "cell_type": "markdown",
   "metadata": {},
   "source": [
    "Choose the number of people and time periods"
   ]
  },
  {
   "cell_type": "code",
   "execution_count": 102,
   "metadata": {
    "collapsed": false
   },
   "outputs": [],
   "source": [
    "N = 100              # Initial number of people\n",
    "T = 365              # Number of time periods (iterations)\n",
    "t_display = 50       # Gap between displayed iteration counter"
   ]
  },
  {
   "cell_type": "code",
   "execution_count": 103,
   "metadata": {
    "collapsed": false
   },
   "outputs": [],
   "source": [
    "cash_endow = [100 for i in range(0,N)]\n",
    "\n",
    "people = [Person(cash_endow[i]) for i in range(0,N)]\n",
    "bus_types = []"
   ]
  },
  {
   "cell_type": "code",
   "execution_count": 104,
   "metadata": {
    "collapsed": false
   },
   "outputs": [],
   "source": [
    "people[0].owner = 1\n",
    "people[0].business = 0\n",
    "\n",
    "people[1].owner = 1\n",
    "people[1].business = 1\n",
    "\n",
    "business = [Business(0,1000000,0), Business(1,1000000,1)]"
   ]
  },
  {
   "cell_type": "code",
   "execution_count": 105,
   "metadata": {
    "collapsed": true
   },
   "outputs": [],
   "source": [
    "period = []\n",
    "population = []\n",
    "unemp_rate = []\n",
    "money_supply = []\n",
    "prod_value = []\n",
    "inv_value = []\n",
    "cons_value = []\n",
    "gini_income = []\n",
    "gini_wealth = []"
   ]
  },
  {
   "cell_type": "code",
   "execution_count": 106,
   "metadata": {
    "collapsed": false
   },
   "outputs": [
    {
     "name": "stdout",
     "output_type": "stream",
     "text": [
      "50\n",
      "100\n",
      "150\n",
      "200\n",
      "250\n",
      "300\n",
      "350\n"
     ]
    }
   ],
   "source": [
    "for t in range(0,T):\n",
    "    \n",
    "  if (t + 1) / t_display == round((t + 1) / t_display, 0):\n",
    "    print(t+1)\n",
    "    \n",
    "  for b in business:                        # Businesses list wages and job offers\n",
    "    b.wage_offer = 10 #*********************************************************************************************\n",
    "    b.jobs_offer = 49 #*********************************************************************************************\n",
    "    b.prod = 0\n",
    "    \n",
    "  wage_offers = [business[b].wage_offer for b in range(0,len(business))]\n",
    "  \n",
    "  unemp_t = 0\n",
    "  population_t = 0\n",
    "  money_supply_t = 0\n",
    "  prod_value_t = 0\n",
    "  inv_value_t = 0\n",
    "  cons_value_t = 0\n",
    "  gini_income_num_t = 0\n",
    "  gini_income_denom_t = 0\n",
    "  gini_income_t = 0\n",
    "  gini_wealth_num_t = 0\n",
    "  gini_wealth_denom_t = 0\n",
    "  gini_wealth_t = 0\n",
    "\n",
    "  for p in people:                          # People get jobs, produce, and get paid\n",
    "    \n",
    "    population_t += 1\n",
    "    \n",
    "    if p.owner == 0:\n",
    "      p.employer = None\n",
    "      wage_max = max(wage_offers)\n",
    "        \n",
    "      if business[wage_offers.index(wage_max)].jobs_offer > 0:\n",
    "        p.employer = wage_offers.index(wage_max)\n",
    "        p.wage = max(wage_offers)\n",
    "        p.cash += p.wage\n",
    "        business[wage_offers.index(wage_max)].cash -= p.wage\n",
    "        business[wage_offers.index(wage_max)].jobs_offer -= 1\n",
    "        prod_incr = 10\n",
    "        business[wage_offers.index(wage_max)].prod += prod_incr\n",
    "        business[wage_offers.index(wage_max)].inventory += prod_incr\n",
    "        \n",
    "        \n",
    "      if business[wage_offers.index(wage_max)].jobs_offer == 0:\n",
    "        business[wage_offers.index(wage_max)].wage_offer = 0\n",
    "    \n",
    "    if p.owner == 1:\n",
    "      p.employer = p.business\n",
    "    \n",
    "    if p.employer == None:\n",
    "      unemp_t += 1\n",
    "    \n",
    "    wage_offers = [business[i].wage_offer for i in range(0,len(business))]\n",
    "    \n",
    "  production = [business[i].prod for i in range(0,len(business))]\n",
    "  \n",
    "  supply_by_type = [0 for k in range(0,len(bus_types))]\n",
    "\n",
    "  for b in business:                        # Update the list of business types\n",
    "    \n",
    "    b.supply = b.inventory\n",
    "    \n",
    "    if b.bus_type not in bus_types:\n",
    "      bus_types.append(b.bus_type)\n",
    "      supply_by_type.append(0)\n",
    "    \n",
    "    supply_by_type[bus_types.index(b.bus_type)] += b.supply\n",
    "                     \n",
    "    b.price = 10                            # Businesses list prices\n",
    "    \n",
    "    prod_value_t += b.price * b.prod\n",
    "    inv_value_t += b.price * b.inventory\n",
    "    \n",
    "  prices = [business[i].price for i in range(0,len(business))]\n",
    "\n",
    "  for p in people:                          # Business owners decide how much to sell vs. consume\n",
    "    \n",
    "    p.demand = [0 for k in range(0,len(bus_types))]\n",
    "    p.spend = [0 for k in range(0,len(bus_types))]\n",
    "    p.consume = [0 for k in range(0,len(bus_types))]\n",
    "    \n",
    "    if p.owner == 1:\n",
    "      c = 10\n",
    "      type_index = bus_types.index(business[p.business].bus_type)\n",
    "      business[p.business].supply -= c\n",
    "      business[p.business].inventory -= c\n",
    "      supply_by_type[type_index] -= c\n",
    "      p.consume[type_index] = c\n",
    "      \n",
    "      cons_value_t += business[p.business].price * c\n",
    "    \n",
    "  for p in people:                          # People buy products\n",
    "    \n",
    "    for k in range(0,len(bus_types)):\n",
    "      price_min = max(prices)\n",
    "      p.demand[k] = 10\n",
    "        \n",
    "      while p.demand[k] > 0 and p.cash > 0 and supply_by_type[k] > 0:\n",
    "      \n",
    "        for b in business:\n",
    "          if b.bus_type == bus_types[k] and b.price <= price_min and b.supply > 0:\n",
    "            price_min = b.price\n",
    "            bus_index = business.index(b)\n",
    "    \n",
    "        if p.cash >= p.demand[k] * price_min and business[bus_index].supply >= p.demand[k]:\n",
    "          spend_incr = p.demand[k] * price_min\n",
    "          \n",
    "        elif p.cash < p.demand[k] * price_min and business[bus_index].supply >= p.demand[k]:\n",
    "          spend_incr = p.cash\n",
    "      \n",
    "        elif p.cash >= p.demand[k] * price_min and business[bus_index].supply < p.demand[k]:\n",
    "          spend_incr = business[bus_index].supply * price_min\n",
    "        \n",
    "        else:\n",
    "          spend_incr = min(p.cash, business[bus_index].supply * price_min)\n",
    "        \n",
    "        p.spend[k] += spend_incr\n",
    "        p.consume[k] += spend_incr / price_min\n",
    "        p.cash -= spend_incr\n",
    "        p.demand[k] -= spend_incr / price_min\n",
    "        \n",
    "        cons_value_t += spend_incr\n",
    "        \n",
    "        business[bus_index].revenue += spend_incr\n",
    "        business[bus_index].cash += spend_incr\n",
    "        business[bus_index].supply -= spend_incr / price_min\n",
    "        business[bus_index].inventory -= spend_incr / price_min\n",
    "        supply_by_type[k] -= spend_incr / price_min\n",
    "        \n",
    "        spend_incr = 0\n",
    "\n",
    "  for b in business:\n",
    "    people[b.owner].wage = 10\n",
    "    people[b.owner].cash += people[b.owner].wage\n",
    "    b.cash -= people[b.owner].wage\n",
    "    money_supply_t += b.cash\n",
    "    \n",
    "  for p in people:\n",
    "    money_supply_t += p.cash\n",
    "    \n",
    "    gini_income_denom_t += p.wage\n",
    "    gini_wealth_denom_t += p.cash\n",
    "    for q in people:\n",
    "      gini_income_num_t += abs(p.wage - q.wage)\n",
    "      gini_wealth_num_t += abs(p.cash - q.cash)\n",
    "  \n",
    "  unemp_rate_t = unemp_t / population_t\n",
    "  gini_income_t = gini_income_num_t / (2 * population_t * gini_income_denom_t)\n",
    "  gini_wealth_t = gini_wealth_num_t / (2 * population_t * gini_wealth_denom_t)\n",
    "    \n",
    "  period.append(t+1)\n",
    "  population.append(population_t)\n",
    "  unemp_rate.append(unemp_rate_t)\n",
    "  money_supply.append(money_supply_t)\n",
    "  prod_value.append(prod_value_t)\n",
    "  inv_value.append(inv_value_t)\n",
    "  cons_value.append(cons_value_t)\n",
    "  gini_income.append(gini_income_t)\n",
    "  gini_wealth.append(gini_wealth_t)"
   ]
  },
  {
   "cell_type": "code",
   "execution_count": 107,
   "metadata": {
    "collapsed": false
   },
   "outputs": [
    {
     "name": "stdout",
     "output_type": "stream",
     "text": [
      "   cons_value  gini_income  gini_wealth  inv_value  money_supply  period  \\\n",
      "0      9800.0          0.0     0.738714     9800.0     2010000.0       1   \n",
      "1      2580.0          0.0     0.980000     9800.0     2010000.0       2   \n",
      "2      1200.0          0.0     0.980000    17020.0     2010000.0       3   \n",
      "3      1200.0          0.0     0.980000    25620.0     2010000.0       4   \n",
      "4      1200.0          0.0     0.980000    34220.0     2010000.0       5   \n",
      "\n",
      "   population  prod_value  unemp_rate  \n",
      "0         100        9800         0.0  \n",
      "1         100        9800         0.0  \n",
      "2         100        9800         0.0  \n",
      "3         100        9800         0.0  \n",
      "4         100        9800         0.0  \n"
     ]
    }
   ],
   "source": [
    "import pandas as pd\n",
    "from collections import OrderedDict\n",
    "from datetime import date\n",
    "\n",
    "data_dict = {'period':period,\n",
    "             'population':population,\n",
    "             'unemp_rate':unemp_rate,\n",
    "             'money_supply':money_supply,\n",
    "             'prod_value':prod_value,\n",
    "             'inv_value':inv_value,\n",
    "             'cons_value':cons_value,\n",
    "             'gini_income':gini_income,\n",
    "             'gini_wealth':gini_wealth}\n",
    "\n",
    "data_df = pd.DataFrame.from_dict(data_dict)\n",
    "\n",
    "print(data_df.head())"
   ]
  },
  {
   "cell_type": "code",
   "execution_count": 108,
   "metadata": {
    "collapsed": false
   },
   "outputs": [
    {
     "data": {
      "text/plain": [
       "<matplotlib.axes._subplots.AxesSubplot at 0xc5a1350>"
      ]
     },
     "execution_count": 108,
     "metadata": {},
     "output_type": "execute_result"
    },
    {
     "data": {
      "image/png": "[encoded data removed]",
      "text/plain": [
       "<matplotlib.figure.Figure at 0xc5ead90>"
      ]
     },
     "metadata": {},
     "output_type": "display_data"
    }
   ],
   "source": [
    "%matplotlib inline\n",
    "\n",
    "data_df.plot(kind=\"line\", x=\"period\", y=\"unemp_rate\")"
   ]
  },
  {
   "cell_type": "code",
   "execution_count": null,
   "metadata": {
    "collapsed": true
   },
   "outputs": [],
   "source": []
  }
 ],
 "metadata": {
  "kernelspec": {
   "display_name": "Python 3",
   "language": "python",
   "name": "python3"
  },
  "language_info": {
   "codemirror_mode": {
    "name": "ipython",
    "version": 3
   },
   "file_extension": ".py",
   "mimetype": "text/x-python",
   "name": "python",
   "nbconvert_exporter": "python",
   "pygments_lexer": "ipython3",
   "version": "3.6.0"
  }
 },
 "nbformat": 4,
 "nbformat_minor": 2
}
